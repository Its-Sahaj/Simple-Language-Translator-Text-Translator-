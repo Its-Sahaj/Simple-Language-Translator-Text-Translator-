{
 "cells": [
  {
   "cell_type": "code",
   "execution_count": 1,
   "id": "38caaa92",
   "metadata": {},
   "outputs": [],
   "source": [
    "from tkinter import *\n",
    "from tkinter import ttk\n",
    "from googletrans import Translator, LANGUAGES\n"
   ]
  },
  {
   "cell_type": "code",
   "execution_count": 2,
   "id": "7c06c431",
   "metadata": {},
   "outputs": [],
   "source": [
    "root =Tk()\n",
    "root.geometry('1100x420')\n",
    "root.resizable(0,0)\n",
    "root['bg'] ='coral1'\n",
    "\n",
    "root.title('Language Translator')\n",
    "Label(root, text = \"Language Translator\",font =\"Arial 20 bold \").pack()\n",
    "\n"
   ]
  },
  {
   "cell_type": "code",
   "execution_count": 3,
   "id": "3e4ba66a",
   "metadata": {},
   "outputs": [],
   "source": [
    "Label(root, text=\"Enter Text \", font=' arial 12 bold', bg=\"ivory2\").place(x=165, y=90)\n"
   ]
  },
  {
   "cell_type": "code",
   "execution_count": 4,
   "id": "3059e501",
   "metadata": {},
   "outputs": [
    {
     "data": {
      "text/plain": [
       "''"
      ]
     },
     "execution_count": 4,
     "metadata": {},
     "output_type": "execute_result"
    }
   ],
   "source": [
    "Input_text= Entry(root,width=60)\n",
    "Input_text.place(x=30, y=130)\n",
    "Input_text.get()\n"
   ]
  },
  {
   "cell_type": "code",
   "execution_count": 5,
   "id": "b344fec7",
   "metadata": {},
   "outputs": [],
   "source": [
    "Label(root, text =\"Translated Text\", font=' arial 12 bold', bg=\"ivory2\").place(x=780, y=90)\n",
    "output_text= Text(root, font='arial 10', height =11, wrap=WORD, padx=5, pady=5, width=50)\n",
    "output_text.place(x=700, y=130)\n",
    "\n",
    "language =list(LANGUAGES.values())\n",
    "\n",
    "dest_lang=ttk.Combobox(root, values =language, width=22)\n",
    "dest_lang.place(x=130,y=190)\n",
    "dest_lang.set(\"Language\")\n",
    "\n",
    "def Translate():\n",
    "    translator= Translator()\n",
    "    translated=translator.translate(text=Input_text.get(), dest= dest_lang.get())\n",
    "    output_text.delete(1.0, END)\n",
    "    output_text.insert(END,translated.text)\n",
    "    \n",
    "trans_btn=Button(root, text='Translate', font='arial 12 bold', pady=5, command= Translate, bg='orange', activebackground = 'green')\n",
    "trans_btn.place(x=445, y=180)\n",
    "    \n",
    "\n",
    "root.mainloop()"
   ]
  },
  {
   "cell_type": "code",
   "execution_count": null,
   "id": "0e06943d",
   "metadata": {},
   "outputs": [],
   "source": []
  }
 ],
 "metadata": {
  "kernelspec": {
   "display_name": "Python 3 (ipykernel)",
   "language": "python",
   "name": "python3"
  },
  "language_info": {
   "codemirror_mode": {
    "name": "ipython",
    "version": 3
   },
   "file_extension": ".py",
   "mimetype": "text/x-python",
   "name": "python",
   "nbconvert_exporter": "python",
   "pygments_lexer": "ipython3",
   "version": "3.9.13"
  }
 },
 "nbformat": 4,
 "nbformat_minor": 5
}
